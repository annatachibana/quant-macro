{
  "nbformat": 4,
  "nbformat_minor": 0,
  "metadata": {
    "colab": {
      "provenance": [],
      "authorship_tag": "ABX9TyPw3RGNxGnjQlfiRDqtfXqI",
      "include_colab_link": true
    },
    "kernelspec": {
      "name": "python3",
      "display_name": "Python 3"
    },
    "language_info": {
      "name": "python"
    }
  },
  "cells": [
    {
      "cell_type": "markdown",
      "metadata": {
        "id": "view-in-github",
        "colab_type": "text"
      },
      "source": [
        "<a href=\"https://colab.research.google.com/github/annatachibana/quant-macro/blob/main/q_macro.ipynb\" target=\"_parent\"><img src=\"https://colab.research.google.com/assets/colab-badge.svg\" alt=\"Open In Colab\"/></a>"
      ]
    },
    {
      "cell_type": "code",
      "execution_count": null,
      "metadata": {
        "id": "dYbix6Mbcf5S"
      },
      "outputs": [],
      "source": [
        "# prompt: １．国の選択とGDPデータの取得: 国を1か国選び、FRED（Federal Reserve Economic Data）から四半期の実質GDPデータを取得。\n",
        "# ２．対数変換: GDPデータに自然対数変換を適用。\n",
        "# ３．HPフィルターの適用とλの検討: 対数処理したGDPデータに対して、ホドリック＝プレスコット（HP）フィルターを適用し、トレンド成分と循環成分を抽出。\n",
        "# 複数の異なるスムージングパラメーター(λ=10, 100, 1600)の値を試し、その結果を比較検討してください。λの値を変えることで抽出されるトレンドと循環成分がどのように変化するのかを考察します。\n",
        "# ４．可視化:\n",
        "# グラフ1：元のデータとトレンド成分の比較:\n",
        "# 対数変換後の元のデータ系列と、異なるλ値（λ = 10, 100, 1600）それぞれに対応するトレンド成分を一つのグラフに重ねてプロットしてください。\n",
        "# 各系列が明確に区別できるように、凡例、軸ラベル、タイトルを適切に付与してください。\n",
        "# グラフ2：循環成分の比較:\n",
        "# 異なるλ値（λ = 10, 100, 1600）それぞれに対応する循環成分を一つのグラフに重ねてプロットしてください。\n",
        "# 各系列が明確に区別できるように、凡例、軸ラベル、タイトルを適切に付与してください。\n",
        "# これらのグラフを用いて、λの値がトレンドの滑らかさ、循環成分の振幅と頻度に与える影響を視覚的に示してください。\n",
        "\n",
        "!pip install fredapi statsmodels matplotlib\n",
        "\n",
        "import pandas as pd\n",
        "from fredapi import Fred\n",
        "import statsmodels.api as sm\n",
        "import matplotlib.pyplot as plt\n",
        "import numpy as np\n",
        "\n",
        "# Replace with your FRED API key. You can get one for free from https://fred.stlouisfed.org/docs/api/api_key.html\n",
        "# If you don't have an API key, you can still run the code but you might face rate limits.\n",
        "fred_api_key = 'YOUR_FRED_API_KEY'\n",
        "fred = Fred(api_key=fred_api_key)\n",
        "\n",
        "# 1. 国の選択とGDPデータの取得: 国を1か国選び、FREDから四半期の実質GDPデータを取得。\n",
        "# Choose a country and the corresponding FRED series ID for real GDP (quarterly).\n",
        "# Example: United States Real Gross Domestic Product, 3 Decimal Places (GDP)\n",
        "country_name = 'United States'\n",
        "gdp_series_id = 'GDPC1'\n",
        "\n",
        "# Fetch GDP data\n",
        "gdp_data = fred.get_series(gdp_series_id)\n",
        "gdp_data = pd.DataFrame(gdp_data, columns=['GDP'])\n",
        "\n",
        "# Filter out potential NaNs at the beginning\n",
        "gdp_data = gdp_data.dropna()\n",
        "\n",
        "# 2. 対数変換: GDPデータに自然対数変換を適用。\n",
        "log_gdp = np.log(gdp_data['GDP'])\n",
        "\n",
        "# 3. HPフィルターの適用とλの検討:\n",
        "lambdas = [10, 100, 1600]\n",
        "hp_results = {}\n",
        "\n",
        "for lambda_val in lambdas:\n",
        "    trend, cycle = sm.tsa.filters.hpfilter(log_gdp, lamb=lambda_val)\n",
        "    hp_results[lambda_val] = {'trend': trend, 'cycle': cycle}\n",
        "\n",
        "# 4. 可視化:\n",
        "\n",
        "# グラフ1：元のデータとトレンド成分の比較:\n",
        "plt.figure(figsize=(12, 6))\n",
        "plt.plot(log_gdp.index, log_gdp, label='Log GDP', linewidth=2)\n",
        "for lambda_val in lambdas:\n",
        "    plt.plot(log_gdp.index, hp_results[lambda_val]['trend'], label=f'Trend (λ={lambda_val})', linestyle='--')\n",
        "\n",
        "plt.title('Log GDP vs. HP Filtered Trend Components for different λ')\n",
        "plt.xlabel('Date')\n",
        "plt.ylabel('Log GDP')\n",
        "plt.legend()\n",
        "plt.grid(True)\n",
        "plt.show()\n",
        "\n",
        "# グラフ2：循環成分の比較:\n",
        "plt.figure(figsize=(12, 6))\n",
        "for lambda_val in lambdas:\n",
        "    plt.plot(log_gdp.index, hp_results[lambda_val]['cycle'], label=f'Cycle (λ={lambda_val})')\n",
        "\n",
        "plt.title('HP Filtered Cycle Components for different λ')\n",
        "plt.xlabel('Date')\n",
        "plt.ylabel('Cycle Component')\n",
        "plt.legend()\n",
        "plt.grid(True)\n",
        "plt.show()"
      ]
    }
  ]
}